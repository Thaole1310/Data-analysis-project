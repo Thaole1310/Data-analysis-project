{
 "cells": [
  {
   "cell_type": "markdown",
   "metadata": {},
   "source": [
    "# SCRAPING STOCK HEADLINE NEWS AND SENTIMENT ANALYSIS "
   ]
  },
  {
   "cell_type": "markdown",
   "metadata": {},
   "source": [
    "**Problem Description**\n",
    "\n",
    "Stock markets tend to react very quickly to breaking news. Negative news will cause people to sell stocks and otherwise. By analyzing the sentiment/attitude toward stocks from news articles, social media, or financial reports, investors can extract insights and make data-driven decisions about whether to buy or sell a stock. \n",
    "\n",
    "In this project, we will scrape headline news from the financial website www.cnbc.com for three big stocks AMAZON,TESLA, and APPLE. Then we perform sentiment analysis based on scraped headline data to determine sentiment toward stock is positive, neutral, or negative. \n",
    "\n",
    "**Business Objectives:** Scraping Headline News and Performing Sentiment Analysis\n",
    "\n",
    "**Data Source:** https://www.cnbc.com/\n",
    "\n",
    "**Data Mining Method:** Selenium package and NLTK package are used for data scraping and sentiment analysis respecitively."
   ]
  },
  {
   "cell_type": "markdown",
   "metadata": {},
   "source": [
    "**Scraping Data**\n",
    "\n",
    "Selenium is an amazing package that we can use to extract content from websites. Instead of copying and pasting every headline manually, we can parse website links and extract information quickly in a few lines of code."
   ]
  },
  {
   "cell_type": "code",
   "execution_count": 149,
   "metadata": {},
   "outputs": [],
   "source": [
    "import pandas as pd\n",
    "import time\n",
    "from selenium import webdriver\n",
    "from webdriver_manager.chrome import ChromeDriverManager\n",
    "from selenium.webdriver.common.by import By\n",
    "from selenium.webdriver.chrome.service import Service\n",
    "from selenium.webdriver.chrome.options import Options\n",
    "import matplotlib.pyplot as plt\n",
    "import os\n",
    "import logging"
   ]
  },
  {
   "cell_type": "code",
   "execution_count": 37,
   "metadata": {},
   "outputs": [],
   "source": [
    "#Function to scrape news about stocks on CNBC website\n",
    "def scrape_news(stock):\n",
    "    browser = webdriver.Chrome(ChromeDriverManager().install())\n",
    "    cnbc_url = \"https://www.cnbc.com/search/?query=\"\n",
    "    stock = stock\n",
    "    browser.get(cnbc_url + stock)\n",
    "    #keep the browser\n",
    "    time.sleep(45)\n",
    "    headline = browser.find_elements(by=By.CLASS_NAME, value='SearchResult-searchResultPreview')\n",
    "    headline_date = browser.find_elements(by=By.CLASS_NAME, value='SearchResult-publishedDate')\n",
    "    #convert headline to list and create dataframe\n",
    "    headline_list = [x.text for x in headline]\n",
    "    headline_date_list = [x.text for x in headline_date]\n",
    "    df = pd.DataFrame({'headline': headline_list, 'date': headline_date_list})\n",
    "    return df\n"
   ]
  },
  {
   "cell_type": "code",
   "execution_count": 147,
   "metadata": {},
   "outputs": [
    {
     "data": {
      "text/html": [
       "<div>\n",
       "<style scoped>\n",
       "    .dataframe tbody tr th:only-of-type {\n",
       "        vertical-align: middle;\n",
       "    }\n",
       "\n",
       "    .dataframe tbody tr th {\n",
       "        vertical-align: top;\n",
       "    }\n",
       "\n",
       "    .dataframe thead th {\n",
       "        text-align: right;\n",
       "    }\n",
       "</style>\n",
       "<table border=\"1\" class=\"dataframe\">\n",
       "  <thead>\n",
       "    <tr style=\"text-align: right;\">\n",
       "      <th></th>\n",
       "      <th>headline</th>\n",
       "      <th>date</th>\n",
       "      <th>company</th>\n",
       "    </tr>\n",
       "  </thead>\n",
       "  <tbody>\n",
       "    <tr>\n",
       "      <th>0</th>\n",
       "      <td>Brent Thill, Jefferies, joins ‘TechCheck’ to d...</td>\n",
       "      <td>12/5/2022 6:35:38 PM</td>\n",
       "      <td>AMAZON</td>\n",
       "    </tr>\n",
       "    <tr>\n",
       "      <th>1</th>\n",
       "      <td>Amazon Web Services has been the biggest growt...</td>\n",
       "      <td>12/3/2022 4:00:01 PM</td>\n",
       "      <td>AMAZON</td>\n",
       "    </tr>\n",
       "    <tr>\n",
       "      <th>2</th>\n",
       "      <td>Here are Monday’s biggest calls on Wall Street...</td>\n",
       "      <td>12/5/2022 2:50:13 PM</td>\n",
       "      <td>AMAZON</td>\n",
       "    </tr>\n",
       "    <tr>\n",
       "      <th>3</th>\n",
       "      <td>Jeff Blackburn is retiring for the second time...</td>\n",
       "      <td>12/2/2022 7:32:07 PM</td>\n",
       "      <td>AMAZON</td>\n",
       "    </tr>\n",
       "    <tr>\n",
       "      <th>4</th>\n",
       "      <td>Running one of the world’s biggest companies —...</td>\n",
       "      <td>12/1/2022 6:35:29 PM</td>\n",
       "      <td>AMAZON</td>\n",
       "    </tr>\n",
       "  </tbody>\n",
       "</table>\n",
       "</div>"
      ],
      "text/plain": [
       "                                            headline                  date  \\\n",
       "0  Brent Thill, Jefferies, joins ‘TechCheck’ to d...  12/5/2022 6:35:38 PM   \n",
       "1  Amazon Web Services has been the biggest growt...  12/3/2022 4:00:01 PM   \n",
       "2  Here are Monday’s biggest calls on Wall Street...  12/5/2022 2:50:13 PM   \n",
       "3  Jeff Blackburn is retiring for the second time...  12/2/2022 7:32:07 PM   \n",
       "4  Running one of the world’s biggest companies —...  12/1/2022 6:35:29 PM   \n",
       "\n",
       "  company  \n",
       "0  AMAZON  \n",
       "1  AMAZON  \n",
       "2  AMAZON  \n",
       "3  AMAZON  \n",
       "4  AMAZON  "
      ]
     },
     "execution_count": 147,
     "metadata": {},
     "output_type": "execute_result"
    }
   ],
   "source": [
    "#Scrape news for AMAZON\n",
    "df_AMAZON = scrape_news('AMAZON')\n",
    "df_AMAZON['company'] = 'AMAZON'\n",
    "df_AMAZON.head()\n"
   ]
  },
  {
   "cell_type": "code",
   "execution_count": 146,
   "metadata": {},
   "outputs": [
    {
     "data": {
      "text/html": [
       "<div>\n",
       "<style scoped>\n",
       "    .dataframe tbody tr th:only-of-type {\n",
       "        vertical-align: middle;\n",
       "    }\n",
       "\n",
       "    .dataframe tbody tr th {\n",
       "        vertical-align: top;\n",
       "    }\n",
       "\n",
       "    .dataframe thead th {\n",
       "        text-align: right;\n",
       "    }\n",
       "</style>\n",
       "<table border=\"1\" class=\"dataframe\">\n",
       "  <thead>\n",
       "    <tr style=\"text-align: right;\">\n",
       "      <th></th>\n",
       "      <th>headline</th>\n",
       "      <th>date</th>\n",
       "      <th>company</th>\n",
       "    </tr>\n",
       "  </thead>\n",
       "  <tbody>\n",
       "    <tr>\n",
       "      <th>0</th>\n",
       "      <td>Here are Tuesday’s biggest calls on Wall Stree...</td>\n",
       "      <td>12/6/2022 2:38:40 PM</td>\n",
       "      <td>TESLA</td>\n",
       "    </tr>\n",
       "    <tr>\n",
       "      <th>1</th>\n",
       "      <td>‘Mad Money’ host Jim Cramer and the ‘Squawk on...</td>\n",
       "      <td>12/5/2022 4:22:39 PM</td>\n",
       "      <td>TESLA</td>\n",
       "    </tr>\n",
       "    <tr>\n",
       "      <th>2</th>\n",
       "      <td>Tesla plans to cut December output of the Mode...</td>\n",
       "      <td>12/5/2022 1:31:11 PM</td>\n",
       "      <td>TESLA</td>\n",
       "    </tr>\n",
       "    <tr>\n",
       "      <th>3</th>\n",
       "      <td>Check out the companies making headlines in mi...</td>\n",
       "      <td>12/5/2022 6:08:31 PM</td>\n",
       "      <td>TESLA</td>\n",
       "    </tr>\n",
       "    <tr>\n",
       "      <th>4</th>\n",
       "      <td>Here are Monday’s biggest calls on Wall Street...</td>\n",
       "      <td>12/5/2022 2:50:13 PM</td>\n",
       "      <td>TESLA</td>\n",
       "    </tr>\n",
       "  </tbody>\n",
       "</table>\n",
       "</div>"
      ],
      "text/plain": [
       "                                            headline                  date  \\\n",
       "0  Here are Tuesday’s biggest calls on Wall Stree...  12/6/2022 2:38:40 PM   \n",
       "1  ‘Mad Money’ host Jim Cramer and the ‘Squawk on...  12/5/2022 4:22:39 PM   \n",
       "2  Tesla plans to cut December output of the Mode...  12/5/2022 1:31:11 PM   \n",
       "3  Check out the companies making headlines in mi...  12/5/2022 6:08:31 PM   \n",
       "4  Here are Monday’s biggest calls on Wall Street...  12/5/2022 2:50:13 PM   \n",
       "\n",
       "  company  \n",
       "0   TESLA  \n",
       "1   TESLA  \n",
       "2   TESLA  \n",
       "3   TESLA  \n",
       "4   TESLA  "
      ]
     },
     "execution_count": 146,
     "metadata": {},
     "output_type": "execute_result"
    }
   ],
   "source": [
    "#Scrape news for TESLA\n",
    "df_TESLA = scrape_news('TESLA')\n",
    "df_TESLA['company'] = 'TESLA'\n",
    "df_TESLA.head()"
   ]
  },
  {
   "cell_type": "code",
   "execution_count": 148,
   "metadata": {},
   "outputs": [
    {
     "data": {
      "text/html": [
       "<div>\n",
       "<style scoped>\n",
       "    .dataframe tbody tr th:only-of-type {\n",
       "        vertical-align: middle;\n",
       "    }\n",
       "\n",
       "    .dataframe tbody tr th {\n",
       "        vertical-align: top;\n",
       "    }\n",
       "\n",
       "    .dataframe thead th {\n",
       "        text-align: right;\n",
       "    }\n",
       "</style>\n",
       "<table border=\"1\" class=\"dataframe\">\n",
       "  <thead>\n",
       "    <tr style=\"text-align: right;\">\n",
       "      <th></th>\n",
       "      <th>headline</th>\n",
       "      <th>date</th>\n",
       "      <th>company</th>\n",
       "    </tr>\n",
       "  </thead>\n",
       "  <tbody>\n",
       "    <tr>\n",
       "      <th>0</th>\n",
       "      <td>Apple on Tuesday announced a new karaoke servi...</td>\n",
       "      <td>12/6/2022 5:19:37 PM</td>\n",
       "      <td>APPLE</td>\n",
       "    </tr>\n",
       "    <tr>\n",
       "      <th>1</th>\n",
       "      <td>U.K.-based consumer tech company Nothing is se...</td>\n",
       "      <td>12/5/2022 7:28:34 AM</td>\n",
       "      <td>APPLE</td>\n",
       "    </tr>\n",
       "    <tr>\n",
       "      <th>2</th>\n",
       "      <td>Here are Tuesday’s biggest calls on Wall Stree...</td>\n",
       "      <td>12/6/2022 2:38:40 PM</td>\n",
       "      <td>APPLE</td>\n",
       "    </tr>\n",
       "    <tr>\n",
       "      <th>3</th>\n",
       "      <td>CNBC’s Steve Kovach and Seema Mody discuss a W...</td>\n",
       "      <td>12/5/2022 7:53:28 PM</td>\n",
       "      <td>APPLE</td>\n",
       "    </tr>\n",
       "    <tr>\n",
       "      <th>4</th>\n",
       "      <td>CNBC’s ‘Halftime Report’ investment committee,...</td>\n",
       "      <td>12/5/2022 7:03:45 PM</td>\n",
       "      <td>APPLE</td>\n",
       "    </tr>\n",
       "  </tbody>\n",
       "</table>\n",
       "</div>"
      ],
      "text/plain": [
       "                                            headline                  date  \\\n",
       "0  Apple on Tuesday announced a new karaoke servi...  12/6/2022 5:19:37 PM   \n",
       "1  U.K.-based consumer tech company Nothing is se...  12/5/2022 7:28:34 AM   \n",
       "2  Here are Tuesday’s biggest calls on Wall Stree...  12/6/2022 2:38:40 PM   \n",
       "3  CNBC’s Steve Kovach and Seema Mody discuss a W...  12/5/2022 7:53:28 PM   \n",
       "4  CNBC’s ‘Halftime Report’ investment committee,...  12/5/2022 7:03:45 PM   \n",
       "\n",
       "  company  \n",
       "0   APPLE  \n",
       "1   APPLE  \n",
       "2   APPLE  \n",
       "3   APPLE  \n",
       "4   APPLE  "
      ]
     },
     "execution_count": 148,
     "metadata": {},
     "output_type": "execute_result"
    }
   ],
   "source": [
    "#Scrape news for APPLE\n",
    "df_APPLE = scrape_news('APPLE')\n",
    "df_APPLE['company'] = 'APPLE'\n",
    "df_APPLE.head()"
   ]
  },
  {
   "cell_type": "code",
   "execution_count": 150,
   "metadata": {},
   "outputs": [],
   "source": [
    "#combine all dataframes\n",
    "df = pd.concat([df_AMAZON, df_TESLA, df_APPLE], ignore_index=True)\n",
    "\n",
    "#drop duplicates\n",
    "df.drop_duplicates(subset =\"headline\", keep = False, inplace = True)"
   ]
  },
  {
   "cell_type": "code",
   "execution_count": 151,
   "metadata": {},
   "outputs": [
    {
     "data": {
      "text/html": [
       "<div>\n",
       "<style scoped>\n",
       "    .dataframe tbody tr th:only-of-type {\n",
       "        vertical-align: middle;\n",
       "    }\n",
       "\n",
       "    .dataframe tbody tr th {\n",
       "        vertical-align: top;\n",
       "    }\n",
       "\n",
       "    .dataframe thead th {\n",
       "        text-align: right;\n",
       "    }\n",
       "</style>\n",
       "<table border=\"1\" class=\"dataframe\">\n",
       "  <thead>\n",
       "    <tr style=\"text-align: right;\">\n",
       "      <th></th>\n",
       "      <th>headline</th>\n",
       "      <th>date</th>\n",
       "      <th>company</th>\n",
       "    </tr>\n",
       "  </thead>\n",
       "  <tbody>\n",
       "    <tr>\n",
       "      <th>2173</th>\n",
       "      <td>What I’m looking at April 1, 2022Goldman Sachs...</td>\n",
       "      <td>4/1/2022 2:13:08 PM</td>\n",
       "      <td>APPLE</td>\n",
       "    </tr>\n",
       "    <tr>\n",
       "      <th>2174</th>\n",
       "      <td>CNBC’s Steve Kovach joins ‘The Exchange’ to re...</td>\n",
       "      <td>6/28/2022 6:36:27 PM</td>\n",
       "      <td>APPLE</td>\n",
       "    </tr>\n",
       "    <tr>\n",
       "      <th>2177</th>\n",
       "      <td>Here are Wednesday’s biggest analyst calls on ...</td>\n",
       "      <td>4/20/2022 1:39:22 PM</td>\n",
       "      <td>APPLE</td>\n",
       "    </tr>\n",
       "    <tr>\n",
       "      <th>2178</th>\n",
       "      <td>CNBC’s Sara Eisen reports on news from Apple.</td>\n",
       "      <td>4/20/2022 9:00:37 PM</td>\n",
       "      <td>APPLE</td>\n",
       "    </tr>\n",
       "    <tr>\n",
       "      <th>2179</th>\n",
       "      <td>Apple capped off a stunning rise on Monday whe...</td>\n",
       "      <td>1/4/2022 12:12:01 AM</td>\n",
       "      <td>APPLE</td>\n",
       "    </tr>\n",
       "  </tbody>\n",
       "</table>\n",
       "</div>"
      ],
      "text/plain": [
       "                                               headline                  date  \\\n",
       "2173  What I’m looking at April 1, 2022Goldman Sachs...   4/1/2022 2:13:08 PM   \n",
       "2174  CNBC’s Steve Kovach joins ‘The Exchange’ to re...  6/28/2022 6:36:27 PM   \n",
       "2177  Here are Wednesday’s biggest analyst calls on ...  4/20/2022 1:39:22 PM   \n",
       "2178      CNBC’s Sara Eisen reports on news from Apple.  4/20/2022 9:00:37 PM   \n",
       "2179  Apple capped off a stunning rise on Monday whe...  1/4/2022 12:12:01 AM   \n",
       "\n",
       "     company  \n",
       "2173   APPLE  \n",
       "2174   APPLE  \n",
       "2177   APPLE  \n",
       "2178   APPLE  \n",
       "2179   APPLE  "
      ]
     },
     "execution_count": 151,
     "metadata": {},
     "output_type": "execute_result"
    }
   ],
   "source": [
    "#df.to_csv('news.csv', index=False)\n",
    "df.tail()"
   ]
  },
  {
   "cell_type": "code",
   "execution_count": 152,
   "metadata": {},
   "outputs": [
    {
     "data": {
      "text/html": [
       "<div>\n",
       "<style scoped>\n",
       "    .dataframe tbody tr th:only-of-type {\n",
       "        vertical-align: middle;\n",
       "    }\n",
       "\n",
       "    .dataframe tbody tr th {\n",
       "        vertical-align: top;\n",
       "    }\n",
       "\n",
       "    .dataframe thead th {\n",
       "        text-align: right;\n",
       "    }\n",
       "</style>\n",
       "<table border=\"1\" class=\"dataframe\">\n",
       "  <thead>\n",
       "    <tr style=\"text-align: right;\">\n",
       "      <th></th>\n",
       "      <th>headline</th>\n",
       "      <th>date</th>\n",
       "      <th>company</th>\n",
       "    </tr>\n",
       "  </thead>\n",
       "  <tbody>\n",
       "    <tr>\n",
       "      <th>0</th>\n",
       "      <td>brent thill  jefferies  joins  techcheck  to d...</td>\n",
       "      <td>2022-12-05</td>\n",
       "      <td>AMAZON</td>\n",
       "    </tr>\n",
       "    <tr>\n",
       "      <th>1</th>\n",
       "      <td>amazon web services has been the biggest growt...</td>\n",
       "      <td>2022-12-03</td>\n",
       "      <td>AMAZON</td>\n",
       "    </tr>\n",
       "    <tr>\n",
       "      <th>3</th>\n",
       "      <td>jeff blackburn is retiring for the second time...</td>\n",
       "      <td>2022-12-02</td>\n",
       "      <td>AMAZON</td>\n",
       "    </tr>\n",
       "    <tr>\n",
       "      <th>4</th>\n",
       "      <td>running one of the world s biggest companies  ...</td>\n",
       "      <td>2022-12-01</td>\n",
       "      <td>AMAZON</td>\n",
       "    </tr>\n",
       "    <tr>\n",
       "      <th>5</th>\n",
       "      <td>amazon  amzn  could potentially spin off its p...</td>\n",
       "      <td>2022-11-30</td>\n",
       "      <td>AMAZON</td>\n",
       "    </tr>\n",
       "  </tbody>\n",
       "</table>\n",
       "</div>"
      ],
      "text/plain": [
       "                                            headline        date company\n",
       "0  brent thill  jefferies  joins  techcheck  to d...  2022-12-05  AMAZON\n",
       "1  amazon web services has been the biggest growt...  2022-12-03  AMAZON\n",
       "3  jeff blackburn is retiring for the second time...  2022-12-02  AMAZON\n",
       "4  running one of the world s biggest companies  ...  2022-12-01  AMAZON\n",
       "5  amazon  amzn  could potentially spin off its p...  2022-11-30  AMAZON"
      ]
     },
     "execution_count": 152,
     "metadata": {},
     "output_type": "execute_result"
    }
   ],
   "source": [
    "#Remove the special characters from the headline (apart from a-z and A-Z replace everything with blank)\n",
    "df['headline'].replace(\"[^a-zA-Z]\",\" \",regex=True, inplace=True)\n",
    "\n",
    "#convert headline to lower case and string\n",
    "df['headline'] = df['headline'].str.lower()\n",
    "df['headline'] = df['headline'].astype(str)\n",
    "\n",
    "df.dropna(inplace=True)\n",
    "\n",
    "# split date column in date and time\n",
    "df['date'] = pd.to_datetime(df['date'])\n",
    "df['date'] = df['date'].dt.date\n",
    "\n",
    "df.head()"
   ]
  },
  {
   "cell_type": "code",
   "execution_count": 153,
   "metadata": {},
   "outputs": [
    {
     "data": {
      "text/plain": [
       "dtype('<M8[ns]')"
      ]
     },
     "execution_count": 153,
     "metadata": {},
     "output_type": "execute_result"
    }
   ],
   "source": [
    "df['date'] = pd.to_datetime(df['date'])\n",
    "df['date'].dtypes"
   ]
  },
  {
   "cell_type": "markdown",
   "metadata": {},
   "source": [
    "**SENTIMENT ANALYSIS**"
   ]
  },
  {
   "cell_type": "markdown",
   "metadata": {},
   "source": [
    "Sentiment analysis is a natural language processing (NLP) technique used to determine whether data is positive, negative, or neutral. This technique is used to discover the meaning behind texts, images or other types of data. The sentiment score ranges from 0 to 1. The higher the score the more positive the data. This project uses NLTK package to calculate sentiment score of each headline then visualizes by bar plot"
   ]
  },
  {
   "cell_type": "code",
   "execution_count": 154,
   "metadata": {},
   "outputs": [
    {
     "data": {
      "text/html": [
       "<div>\n",
       "<style scoped>\n",
       "    .dataframe tbody tr th:only-of-type {\n",
       "        vertical-align: middle;\n",
       "    }\n",
       "\n",
       "    .dataframe tbody tr th {\n",
       "        vertical-align: top;\n",
       "    }\n",
       "\n",
       "    .dataframe thead th {\n",
       "        text-align: right;\n",
       "    }\n",
       "</style>\n",
       "<table border=\"1\" class=\"dataframe\">\n",
       "  <thead>\n",
       "    <tr style=\"text-align: right;\">\n",
       "      <th></th>\n",
       "      <th>date</th>\n",
       "      <th>company</th>\n",
       "      <th>neg</th>\n",
       "      <th>neu</th>\n",
       "      <th>pos</th>\n",
       "      <th>compound</th>\n",
       "    </tr>\n",
       "  </thead>\n",
       "  <tbody>\n",
       "    <tr>\n",
       "      <th>0</th>\n",
       "      <td>2021-07-08</td>\n",
       "      <td>TESLA</td>\n",
       "      <td>0.170</td>\n",
       "      <td>0.8300</td>\n",
       "      <td>0.0000</td>\n",
       "      <td>-0.59940</td>\n",
       "    </tr>\n",
       "    <tr>\n",
       "      <th>1</th>\n",
       "      <td>2021-07-10</td>\n",
       "      <td>TESLA</td>\n",
       "      <td>0.000</td>\n",
       "      <td>1.0000</td>\n",
       "      <td>0.0000</td>\n",
       "      <td>0.00000</td>\n",
       "    </tr>\n",
       "    <tr>\n",
       "      <th>2</th>\n",
       "      <td>2021-07-26</td>\n",
       "      <td>TESLA</td>\n",
       "      <td>0.000</td>\n",
       "      <td>0.9290</td>\n",
       "      <td>0.0710</td>\n",
       "      <td>0.21075</td>\n",
       "    </tr>\n",
       "    <tr>\n",
       "      <th>3</th>\n",
       "      <td>2021-07-27</td>\n",
       "      <td>TESLA</td>\n",
       "      <td>0.057</td>\n",
       "      <td>0.9065</td>\n",
       "      <td>0.0365</td>\n",
       "      <td>-0.12500</td>\n",
       "    </tr>\n",
       "    <tr>\n",
       "      <th>4</th>\n",
       "      <td>2021-07-30</td>\n",
       "      <td>TESLA</td>\n",
       "      <td>0.000</td>\n",
       "      <td>1.0000</td>\n",
       "      <td>0.0000</td>\n",
       "      <td>0.00000</td>\n",
       "    </tr>\n",
       "  </tbody>\n",
       "</table>\n",
       "</div>"
      ],
      "text/plain": [
       "        date company    neg     neu     pos  compound\n",
       "0 2021-07-08   TESLA  0.170  0.8300  0.0000  -0.59940\n",
       "1 2021-07-10   TESLA  0.000  1.0000  0.0000   0.00000\n",
       "2 2021-07-26   TESLA  0.000  0.9290  0.0710   0.21075\n",
       "3 2021-07-27   TESLA  0.057  0.9065  0.0365  -0.12500\n",
       "4 2021-07-30   TESLA  0.000  1.0000  0.0000   0.00000"
      ]
     },
     "execution_count": 154,
     "metadata": {},
     "output_type": "execute_result"
    }
   ],
   "source": [
    "from nltk.sentiment.vader import SentimentIntensityAnalyzer\n",
    "#nltk.download() #download vader_lexicon\n",
    "#sentiment score for each headline\n",
    "vader = SentimentIntensityAnalyzer()\n",
    "scores = df['headline'].apply(vader.polarity_scores).tolist()\n",
    "#convert scores to dataframe\n",
    "scores_df = pd.DataFrame(scores)\n",
    "#join scores to original dataframe\n",
    "df = df.join(scores_df, rsuffix='_right')\n",
    "\n",
    "#group by date and company and calculate the mean of the compound score\n",
    "df = df.groupby(['date', 'company']).mean().reset_index()\n",
    "\n",
    "df.head()"
   ]
  },
  {
   "cell_type": "code",
   "execution_count": 166,
   "metadata": {},
   "outputs": [
    {
     "data": {
      "text/plain": [
       "<matplotlib.legend.Legend at 0x2012e117250>"
      ]
     },
     "execution_count": 166,
     "metadata": {},
     "output_type": "execute_result"
    },
    {
     "data": {
      "image/png": "[encoded data removed]",
      "text/plain": [
       "<Figure size 1000x500 with 1 Axes>"
      ]
     },
     "metadata": {},
     "output_type": "display_data"
    }
   ],
   "source": [
    "#plot sentiment score for 3 companies in November 2021\n",
    "import warnings\n",
    "import seaborn as sns\n",
    "\n",
    "#filter data in November 2021\n",
    "from datetime import datetime\n",
    "startdate = datetime.strptime(\"2022-11-01\", \"%Y-%m-%d\")\n",
    "enddate = datetime.strptime(\"2022-11-30\", \"%Y-%m-%d\")\n",
    "data = df[(df['date'] >= startdate) & (df['date'] <= enddate)]\n",
    "data['date'] = data['date'].dt.strftime('%d-%b-%Y')\n",
    "#plot sentiment score for 3 companies in November 2021\n",
    "sns.set_style('whitegrid')\n",
    "plt.figure(figsize=(10,5))\n",
    "sns.barplot(x='date', y='compound', data=data, hue ='company')\n",
    "plt.xticks(rotation=45, size=5)\n",
    "warnings.filterwarnings('ignore')\n",
    "plt.xlabel('Date')\n",
    "plt.ylabel('Sentiment Score')\n",
    "plt.legend(loc='upper right', fontsize=6, title='Company')"
   ]
  },
  {
   "cell_type": "markdown",
   "metadata": {},
   "source": [
    "Based on the bar chart above, you can understand the sentiment/attitude that investors have about company stocks (Amazon, Tesla, Apple) and discover events that cause sentiment negative. Overall, the sentiment scores for all three stocks during Nov 2022 are positive. However, Amazon received a negative score on 14 Nov 2022 because of its plan to lay off about 10,000 employees. Attitudes toward Tesla stock became negative at the end of Nov 2022 due to concerns about a stock pullback.  "
   ]
  }
 ],
 "metadata": {
  "kernelspec": {
   "display_name": "Python 3.10.6 64-bit",
   "language": "python",
   "name": "python3"
  },
  "language_info": {
   "codemirror_mode": {
    "name": "ipython",
    "version": 3
   },
   "file_extension": ".py",
   "mimetype": "text/x-python",
   "name": "python",
   "nbconvert_exporter": "python",
   "pygments_lexer": "ipython3",
   "version": "3.10.6"
  },
  "orig_nbformat": 4,
  "vscode": {
   "interpreter": {
    "hash": "fbc768028c3e6ead51d9a200ddcb2ec858ae62844dcd1994729a8279be9b48f2"
   }
  }
 },
 "nbformat": 4,
 "nbformat_minor": 2
}
